{
 "metadata": {
  "language_info": {
   "codemirror_mode": {
    "name": "ipython",
    "version": 3
   },
   "file_extension": ".py",
   "mimetype": "text/x-python",
   "name": "python",
   "nbconvert_exporter": "python",
   "pygments_lexer": "ipython3",
   "version": "3.8.5-final"
  },
  "orig_nbformat": 2,
  "kernelspec": {
   "name": "python_defaultSpec_1597886433649",
   "display_name": "Python 3.8.5 64-bit ('nascar_cautions': conda)"
  }
 },
 "nbformat": 4,
 "nbformat_minor": 2,
 "cells": [
  {
   "cell_type": "code",
   "execution_count": 16,
   "metadata": {},
   "outputs": [],
   "source": [
    "import pandas as pd \n",
    "from datetime import datetime"
   ]
  },
  {
   "cell_type": "code",
   "execution_count": 3,
   "metadata": {},
   "outputs": [
    {
     "output_type": "execute_result",
     "data": {
      "text/plain": "     Unnamed: 0  RaceNumber      Date           Track  Cars           Winner  \\\n0             0           1  02/20/00         Daytona    43     Dale Jarrett   \n1             1           2  02/27/00      Rockingham    43    Bobby Labonte   \n2             2           3  03/05/00       Las Vegas    43      Jeff Burton   \n3             3           4  03/12/00         Atlanta    43   Dale Earnhardt   \n4             4           5  03/19/00      Darlington    43      Ward Burton   \n..          ...         ...       ...             ...   ...              ...   \n736          18          19  07/23/20          Kansas    40     Denny Hamlin   \n737          19          20  08/02/20          Loudon    38  Brad Keselowski   \n738          20          21  08/08/20        Michigan    39    Kevin Harvick   \n739          21          22  08/09/20        Michigan    39    Kevin Harvick   \n740          22          23  08/16/20  Daytona (Road)    39    Chase Elliott   \n\n     WinnerStart WinnerMake  TrackLength TrackSurface  MilesRun      Purse  \\\n0              1       Ford        2.500            P       500  7,646,975   \n1              3    Pontiac        1.017            P       400  1,744,304   \n2             11       Ford        1.500            P       222  3,572,500   \n3             35  Chevrolet        1.540            P       501  1,792,435   \n4              3    Pontiac        1.366            P       400  1,792,036   \n..           ...        ...          ...          ...       ...        ...   \n736           10     Toyota        1.500            P       401              \n737            4       Ford        1.058            P       318              \n738            3       Ford        2.000            P       322              \n739           20       Ford        2.000            P       312              \n740            7  Chevrolet        3.610            R       235              \n\n    PoleSpeed  NumCautions  LapsUnderCaution  AvgSpeed  LeadChanges  Year  \n0     191.091            6                24   155.669            9  2000  \n1     158.035            4                22   127.875           22  2000  \n2     172.563            2                29   119.982           13  2000  \n3     192.574           10                62   131.759           30  2000  \n4     172.662            5                30   128.076           13  2000  \n..        ...          ...               ...       ...          ...   ...  \n736       DFP           11                47   121.835           21  2020  \n737       DFP           11                52   100.372           22  2020  \n738       DFP            9                43   124.712           12  2020  \n739       NTT            5                24   144.463           10  2020  \n740       NaN            4                 7    89.390           13  2020  \n\n[741 rows x 18 columns]",
      "text/html": "<div>\n<style scoped>\n    .dataframe tbody tr th:only-of-type {\n        vertical-align: middle;\n    }\n\n    .dataframe tbody tr th {\n        vertical-align: top;\n    }\n\n    .dataframe thead th {\n        text-align: right;\n    }\n</style>\n<table border=\"1\" class=\"dataframe\">\n  <thead>\n    <tr style=\"text-align: right;\">\n      <th></th>\n      <th>Unnamed: 0</th>\n      <th>RaceNumber</th>\n      <th>Date</th>\n      <th>Track</th>\n      <th>Cars</th>\n      <th>Winner</th>\n      <th>WinnerStart</th>\n      <th>WinnerMake</th>\n      <th>TrackLength</th>\n      <th>TrackSurface</th>\n      <th>MilesRun</th>\n      <th>Purse</th>\n      <th>PoleSpeed</th>\n      <th>NumCautions</th>\n      <th>LapsUnderCaution</th>\n      <th>AvgSpeed</th>\n      <th>LeadChanges</th>\n      <th>Year</th>\n    </tr>\n  </thead>\n  <tbody>\n    <tr>\n      <th>0</th>\n      <td>0</td>\n      <td>1</td>\n      <td>02/20/00</td>\n      <td>Daytona</td>\n      <td>43</td>\n      <td>Dale Jarrett</td>\n      <td>1</td>\n      <td>Ford</td>\n      <td>2.500</td>\n      <td>P</td>\n      <td>500</td>\n      <td>7,646,975</td>\n      <td>191.091</td>\n      <td>6</td>\n      <td>24</td>\n      <td>155.669</td>\n      <td>9</td>\n      <td>2000</td>\n    </tr>\n    <tr>\n      <th>1</th>\n      <td>1</td>\n      <td>2</td>\n      <td>02/27/00</td>\n      <td>Rockingham</td>\n      <td>43</td>\n      <td>Bobby Labonte</td>\n      <td>3</td>\n      <td>Pontiac</td>\n      <td>1.017</td>\n      <td>P</td>\n      <td>400</td>\n      <td>1,744,304</td>\n      <td>158.035</td>\n      <td>4</td>\n      <td>22</td>\n      <td>127.875</td>\n      <td>22</td>\n      <td>2000</td>\n    </tr>\n    <tr>\n      <th>2</th>\n      <td>2</td>\n      <td>3</td>\n      <td>03/05/00</td>\n      <td>Las Vegas</td>\n      <td>43</td>\n      <td>Jeff Burton</td>\n      <td>11</td>\n      <td>Ford</td>\n      <td>1.500</td>\n      <td>P</td>\n      <td>222</td>\n      <td>3,572,500</td>\n      <td>172.563</td>\n      <td>2</td>\n      <td>29</td>\n      <td>119.982</td>\n      <td>13</td>\n      <td>2000</td>\n    </tr>\n    <tr>\n      <th>3</th>\n      <td>3</td>\n      <td>4</td>\n      <td>03/12/00</td>\n      <td>Atlanta</td>\n      <td>43</td>\n      <td>Dale Earnhardt</td>\n      <td>35</td>\n      <td>Chevrolet</td>\n      <td>1.540</td>\n      <td>P</td>\n      <td>501</td>\n      <td>1,792,435</td>\n      <td>192.574</td>\n      <td>10</td>\n      <td>62</td>\n      <td>131.759</td>\n      <td>30</td>\n      <td>2000</td>\n    </tr>\n    <tr>\n      <th>4</th>\n      <td>4</td>\n      <td>5</td>\n      <td>03/19/00</td>\n      <td>Darlington</td>\n      <td>43</td>\n      <td>Ward Burton</td>\n      <td>3</td>\n      <td>Pontiac</td>\n      <td>1.366</td>\n      <td>P</td>\n      <td>400</td>\n      <td>1,792,036</td>\n      <td>172.662</td>\n      <td>5</td>\n      <td>30</td>\n      <td>128.076</td>\n      <td>13</td>\n      <td>2000</td>\n    </tr>\n    <tr>\n      <th>...</th>\n      <td>...</td>\n      <td>...</td>\n      <td>...</td>\n      <td>...</td>\n      <td>...</td>\n      <td>...</td>\n      <td>...</td>\n      <td>...</td>\n      <td>...</td>\n      <td>...</td>\n      <td>...</td>\n      <td>...</td>\n      <td>...</td>\n      <td>...</td>\n      <td>...</td>\n      <td>...</td>\n      <td>...</td>\n      <td>...</td>\n    </tr>\n    <tr>\n      <th>736</th>\n      <td>18</td>\n      <td>19</td>\n      <td>07/23/20</td>\n      <td>Kansas</td>\n      <td>40</td>\n      <td>Denny Hamlin</td>\n      <td>10</td>\n      <td>Toyota</td>\n      <td>1.500</td>\n      <td>P</td>\n      <td>401</td>\n      <td></td>\n      <td>DFP</td>\n      <td>11</td>\n      <td>47</td>\n      <td>121.835</td>\n      <td>21</td>\n      <td>2020</td>\n    </tr>\n    <tr>\n      <th>737</th>\n      <td>19</td>\n      <td>20</td>\n      <td>08/02/20</td>\n      <td>Loudon</td>\n      <td>38</td>\n      <td>Brad Keselowski</td>\n      <td>4</td>\n      <td>Ford</td>\n      <td>1.058</td>\n      <td>P</td>\n      <td>318</td>\n      <td></td>\n      <td>DFP</td>\n      <td>11</td>\n      <td>52</td>\n      <td>100.372</td>\n      <td>22</td>\n      <td>2020</td>\n    </tr>\n    <tr>\n      <th>738</th>\n      <td>20</td>\n      <td>21</td>\n      <td>08/08/20</td>\n      <td>Michigan</td>\n      <td>39</td>\n      <td>Kevin Harvick</td>\n      <td>3</td>\n      <td>Ford</td>\n      <td>2.000</td>\n      <td>P</td>\n      <td>322</td>\n      <td></td>\n      <td>DFP</td>\n      <td>9</td>\n      <td>43</td>\n      <td>124.712</td>\n      <td>12</td>\n      <td>2020</td>\n    </tr>\n    <tr>\n      <th>739</th>\n      <td>21</td>\n      <td>22</td>\n      <td>08/09/20</td>\n      <td>Michigan</td>\n      <td>39</td>\n      <td>Kevin Harvick</td>\n      <td>20</td>\n      <td>Ford</td>\n      <td>2.000</td>\n      <td>P</td>\n      <td>312</td>\n      <td></td>\n      <td>NTT</td>\n      <td>5</td>\n      <td>24</td>\n      <td>144.463</td>\n      <td>10</td>\n      <td>2020</td>\n    </tr>\n    <tr>\n      <th>740</th>\n      <td>22</td>\n      <td>23</td>\n      <td>08/16/20</td>\n      <td>Daytona (Road)</td>\n      <td>39</td>\n      <td>Chase Elliott</td>\n      <td>7</td>\n      <td>Chevrolet</td>\n      <td>3.610</td>\n      <td>R</td>\n      <td>235</td>\n      <td></td>\n      <td>NaN</td>\n      <td>4</td>\n      <td>7</td>\n      <td>89.390</td>\n      <td>13</td>\n      <td>2020</td>\n    </tr>\n  </tbody>\n</table>\n<p>741 rows × 18 columns</p>\n</div>"
     },
     "metadata": {},
     "execution_count": 3
    }
   ],
   "source": [
    "df = pd.read_csv('../data/season_data.csv')\n",
    "df"
   ]
  },
  {
   "cell_type": "code",
   "execution_count": 4,
   "metadata": {},
   "outputs": [
    {
     "output_type": "execute_result",
     "data": {
      "text/plain": "Unnamed: 0            int64\nRaceNumber            int64\nDate                 object\nTrack                object\nCars                  int64\nWinner               object\nWinnerStart           int64\nWinnerMake           object\nTrackLength         float64\nTrackSurface         object\nMilesRun              int64\nPurse                object\nPoleSpeed            object\nNumCautions           int64\nLapsUnderCaution      int64\nAvgSpeed            float64\nLeadChanges           int64\nYear                  int64\ndtype: object"
     },
     "metadata": {},
     "execution_count": 4
    }
   ],
   "source": [
    "df.dtypes"
   ]
  },
  {
   "cell_type": "code",
   "execution_count": 5,
   "metadata": {},
   "outputs": [
    {
     "output_type": "execute_result",
     "data": {
      "text/plain": "0      191.091\n1      158.035\n2      172.563\n3      192.574\n4      172.662\n        ...   \n736        NaN\n737        NaN\n738        NaN\n739        NaN\n740        NaN\nName: PoleSpeed, Length: 741, dtype: float64"
     },
     "metadata": {},
     "execution_count": 5
    }
   ],
   "source": [
    "df['PoleSpeed'] = pd.to_numeric(df['PoleSpeed'], errors='coerce')\n",
    "df['PoleSpeed']"
   ]
  },
  {
   "cell_type": "code",
   "execution_count": 13,
   "metadata": {},
   "outputs": [
    {
     "output_type": "execute_result",
     "data": {
      "text/plain": "0      7646975.0\n1      1744304.0\n2      3572500.0\n3      1792435.0\n4      1792036.0\n         ...    \n736          NaN\n737          NaN\n738          NaN\n739          NaN\n740          NaN\nName: Purse, Length: 741, dtype: float64"
     },
     "metadata": {},
     "execution_count": 13
    }
   ],
   "source": [
    "df['Purse'] = pd.to_numeric(df['Purse'].apply(lambda x: x.replace(',', '')), errors='coerce')\n",
    "df['Purse']"
   ]
  },
  {
   "cell_type": "code",
   "execution_count": 15,
   "metadata": {},
   "outputs": [],
   "source": [
    "df['Date'] = pd.to_datetime(df['Date'], format='%m/%d/%y')"
   ]
  },
  {
   "cell_type": "code",
   "execution_count": 18,
   "metadata": {},
   "outputs": [],
   "source": [
    "def stage_adjust_cautions(row):\n",
    "    stage_start = datetime(2017, 1, 1)\n",
    "    base_cautions = row['NumCautions']\n",
    "    race_date = row['Date']\n",
    "\n",
    "    # stage cautions introduced for 2017 season, everything before that doesn't need adjustment\n",
    "    if race_date < stage_start:\n",
    "        return base_cautions\n",
    "    \n",
    "    # Coke 600 at Charlotte has 4 stages for some reason\n",
    "    # potentially incorrect if race is rain-shortened\n",
    "    if row['Track'] == 'Charlotte' and row['MilesRun'] > 500:\n",
    "        return base_cautions - 3\n",
    "\n",
    "    # everything else has 3 stages (again, unless rain-shortened)\n",
    "    return base_cautions - 2"
   ]
  },
  {
   "cell_type": "code",
   "execution_count": 24,
   "metadata": {},
   "outputs": [
    {
     "output_type": "execute_result",
     "data": {
      "text/plain": "          Date           Track  NumCautions  StageAdjustCautions\n0   2000-02-20         Daytona            6                    6\n1   2000-02-27      Rockingham            4                    4\n2   2000-03-05       Las Vegas            2                    2\n3   2000-03-12         Atlanta           10                   10\n4   2000-03-19      Darlington            5                    5\n..         ...             ...          ...                  ...\n736 2020-07-23          Kansas           11                    9\n737 2020-08-02          Loudon           11                    9\n738 2020-08-08        Michigan            9                    7\n739 2020-08-09        Michigan            5                    3\n740 2020-08-16  Daytona (Road)            4                    2\n\n[741 rows x 4 columns]",
      "text/html": "<div>\n<style scoped>\n    .dataframe tbody tr th:only-of-type {\n        vertical-align: middle;\n    }\n\n    .dataframe tbody tr th {\n        vertical-align: top;\n    }\n\n    .dataframe thead th {\n        text-align: right;\n    }\n</style>\n<table border=\"1\" class=\"dataframe\">\n  <thead>\n    <tr style=\"text-align: right;\">\n      <th></th>\n      <th>Date</th>\n      <th>Track</th>\n      <th>NumCautions</th>\n      <th>StageAdjustCautions</th>\n    </tr>\n  </thead>\n  <tbody>\n    <tr>\n      <th>0</th>\n      <td>2000-02-20</td>\n      <td>Daytona</td>\n      <td>6</td>\n      <td>6</td>\n    </tr>\n    <tr>\n      <th>1</th>\n      <td>2000-02-27</td>\n      <td>Rockingham</td>\n      <td>4</td>\n      <td>4</td>\n    </tr>\n    <tr>\n      <th>2</th>\n      <td>2000-03-05</td>\n      <td>Las Vegas</td>\n      <td>2</td>\n      <td>2</td>\n    </tr>\n    <tr>\n      <th>3</th>\n      <td>2000-03-12</td>\n      <td>Atlanta</td>\n      <td>10</td>\n      <td>10</td>\n    </tr>\n    <tr>\n      <th>4</th>\n      <td>2000-03-19</td>\n      <td>Darlington</td>\n      <td>5</td>\n      <td>5</td>\n    </tr>\n    <tr>\n      <th>...</th>\n      <td>...</td>\n      <td>...</td>\n      <td>...</td>\n      <td>...</td>\n    </tr>\n    <tr>\n      <th>736</th>\n      <td>2020-07-23</td>\n      <td>Kansas</td>\n      <td>11</td>\n      <td>9</td>\n    </tr>\n    <tr>\n      <th>737</th>\n      <td>2020-08-02</td>\n      <td>Loudon</td>\n      <td>11</td>\n      <td>9</td>\n    </tr>\n    <tr>\n      <th>738</th>\n      <td>2020-08-08</td>\n      <td>Michigan</td>\n      <td>9</td>\n      <td>7</td>\n    </tr>\n    <tr>\n      <th>739</th>\n      <td>2020-08-09</td>\n      <td>Michigan</td>\n      <td>5</td>\n      <td>3</td>\n    </tr>\n    <tr>\n      <th>740</th>\n      <td>2020-08-16</td>\n      <td>Daytona (Road)</td>\n      <td>4</td>\n      <td>2</td>\n    </tr>\n  </tbody>\n</table>\n<p>741 rows × 4 columns</p>\n</div>"
     },
     "metadata": {},
     "execution_count": 24
    }
   ],
   "source": [
    "df['StageAdjustCautions'] = df.apply(stage_adjust_cautions, axis=1)\n",
    "df[['Date', 'Track', 'NumCautions','StageAdjustCautions']]"
   ]
  }
 ]
}